{
 "cells": [
  {
   "cell_type": "markdown",
   "metadata": {
    "slideshow": {
     "slide_type": "slide"
    }
   },
   "source": [
    "# Dicionários em Python\n",
    "\n",
    "Dicionário é um tipo diferente de coleção. Ele é um tipo de mapeamento nativo do Python. Um mapa é uma coleção associativa desordenada. A associação, ou mapeamento, é feita a partir de uma chave, que pode ser qualquer tipo imutável, para um valor, que pode ser qualquer objeto de dados do Python."
   ]
  },
  {
   "cell_type": "markdown",
   "metadata": {
    "slideshow": {
     "slide_type": "slide"
    }
   },
   "source": [
    "Exemplos"
   ]
  },
  {
   "cell_type": "code",
   "execution_count": 1,
   "metadata": {
    "slideshow": {
     "slide_type": "fragment"
    }
   },
   "outputs": [
    {
     "name": "stdout",
     "output_type": "stream",
     "text": [
      "{}\n",
      "{'one': 'um', 'two': 'dois', 'three': 'três', 'four': 'quatro', 'five': 'cinco'}\n",
      "três\n"
     ]
    }
   ],
   "source": [
    "# dicionario vazio\n",
    "dic = {}\n",
    "print(dic)\n",
    "numbers_port = {\"one\":\"um\",\"two\":\"dois\",\"three\":\"três\",\"four\":\"quatro\",\"five\":\"cinco\"}\n",
    "print(numbers_port)\n",
    "print(numbers_port[\"three\"])"
   ]
  },
  {
   "cell_type": "markdown",
   "metadata": {
    "slideshow": {
     "slide_type": "slide"
    }
   },
   "source": [
    "Você pode alterar os elementos de um dicionário a qualquer momento"
   ]
  },
  {
   "cell_type": "code",
   "execution_count": 2,
   "metadata": {
    "slideshow": {
     "slide_type": "fragment"
    }
   },
   "outputs": [
    {
     "name": "stdout",
     "output_type": "stream",
     "text": [
      "{'óleo': 5, 'azeite': 3, 'margarina': 10}\n",
      "8\n"
     ]
    }
   ],
   "source": [
    "estoque = {\"óleo\":5,\"azeite\":3,\"margarina\":10}\n",
    "print(estoque)\n",
    "estoque[\"margarina\"] = estoque[\"margarina\"] - 2\n",
    "print(estoque[\"margarina\"])"
   ]
  },
  {
   "cell_type": "markdown",
   "metadata": {
    "slideshow": {
     "slide_type": "slide"
    }
   },
   "source": [
    "Você pode excluir um elemento de um dcionário com a função **del**"
   ]
  },
  {
   "cell_type": "code",
   "execution_count": 3,
   "metadata": {
    "slideshow": {
     "slide_type": "fragment"
    }
   },
   "outputs": [
    {
     "name": "stdout",
     "output_type": "stream",
     "text": [
      "{'óleo': 5, 'margarina': 8}\n"
     ]
    }
   ],
   "source": [
    "del(estoque[\"azeite\"])\n",
    "print(estoque)"
   ]
  },
  {
   "cell_type": "markdown",
   "metadata": {
    "slideshow": {
     "slide_type": "slide"
    }
   },
   "source": [
    "Você pode adicionar um novo item ao dicionário a qualquer momento"
   ]
  },
  {
   "cell_type": "code",
   "execution_count": 4,
   "metadata": {
    "slideshow": {
     "slide_type": "fragment"
    }
   },
   "outputs": [
    {
     "name": "stdout",
     "output_type": "stream",
     "text": [
      "{'óleo': 5, 'margarina': 8, 'café': 2}\n"
     ]
    }
   ],
   "source": [
    "estoque[\"café\"] = 2\n",
    "print(estoque)"
   ]
  },
  {
   "cell_type": "markdown",
   "metadata": {
    "slideshow": {
     "slide_type": "slide"
    }
   },
   "source": [
    "Assim como para as listas, o tamanho de um dicionário é dado pela função **len**"
   ]
  },
  {
   "cell_type": "code",
   "execution_count": 5,
   "metadata": {
    "slideshow": {
     "slide_type": "fragment"
    }
   },
   "outputs": [
    {
     "name": "stdout",
     "output_type": "stream",
     "text": [
      "{'óleo': 5, 'margarina': 8, 'café': 2}\n",
      "3\n"
     ]
    }
   ],
   "source": [
    "print(estoque)\n",
    "print(len(estoque))"
   ]
  },
  {
   "cell_type": "markdown",
   "metadata": {
    "slideshow": {
     "slide_type": "slide"
    }
   },
   "source": [
    "### Métodos de dicionários\n",
    "\n",
    "O método **keys** retorna as chaves do dicionário"
   ]
  },
  {
   "cell_type": "code",
   "execution_count": 6,
   "metadata": {
    "slideshow": {
     "slide_type": "fragment"
    }
   },
   "outputs": [
    {
     "name": "stdout",
     "output_type": "stream",
     "text": [
      "{'óleo': 5, 'margarina': 8, 'café': 2}\n",
      "dict_keys(['óleo', 'margarina', 'café'])\n"
     ]
    }
   ],
   "source": [
    "print(estoque)\n",
    "print(estoque.keys())"
   ]
  },
  {
   "cell_type": "markdown",
   "metadata": {
    "slideshow": {
     "slide_type": "slide"
    }
   },
   "source": [
    "O valor retornado pelo método **keys** é o que se chama em Python 3 de uma \"view\". Essa view pode ser usada em uma iteração ou pode ser convertida explicitamente em uma lista."
   ]
  },
  {
   "cell_type": "code",
   "execution_count": 7,
   "metadata": {
    "slideshow": {
     "slide_type": "fragment"
    }
   },
   "outputs": [
    {
     "name": "stdout",
     "output_type": "stream",
     "text": [
      "{'óleo': 5, 'margarina': 8, 'café': 2}\n",
      "5\n",
      "8\n",
      "2\n",
      "['óleo', 'margarina', 'café']\n"
     ]
    }
   ],
   "source": [
    "print(estoque)\n",
    "for chave in estoque.keys():\n",
    "    print(estoque[chave])\n",
    "print(list(estoque.keys()))"
   ]
  },
  {
   "cell_type": "markdown",
   "metadata": {
    "slideshow": {
     "slide_type": "slide"
    }
   },
   "source": [
    "Você pode iterar diretamente no dicionário que o Python interpreta que essa iteração ocorre nas chaves do dicionário."
   ]
  },
  {
   "cell_type": "code",
   "execution_count": 8,
   "metadata": {
    "slideshow": {
     "slide_type": "fragment"
    }
   },
   "outputs": [
    {
     "name": "stdout",
     "output_type": "stream",
     "text": [
      "{'óleo': 5, 'margarina': 8, 'café': 2}\n",
      "5\n",
      "8\n",
      "2\n"
     ]
    }
   ],
   "source": [
    "print(estoque)\n",
    "for chave in estoque:\n",
    "    print(estoque[chave])"
   ]
  },
  {
   "cell_type": "markdown",
   "metadata": {
    "slideshow": {
     "slide_type": "slide"
    }
   },
   "source": [
    "O método **values** retorna os valores do dicionário"
   ]
  },
  {
   "cell_type": "code",
   "execution_count": 9,
   "metadata": {
    "slideshow": {
     "slide_type": "fragment"
    }
   },
   "outputs": [
    {
     "name": "stdout",
     "output_type": "stream",
     "text": [
      "{'óleo': 5, 'margarina': 8, 'café': 2}\n",
      "dict_values([5, 8, 2])\n"
     ]
    }
   ],
   "source": [
    "print(estoque)\n",
    "print(estoque.values())"
   ]
  },
  {
   "cell_type": "markdown",
   "metadata": {
    "slideshow": {
     "slide_type": "slide"
    }
   },
   "source": [
    "Da mesma maneira que ocorre para o método **keys**, o método **values** também retorna uma *view*. Você pode transformar essa *view* explicitamente em uma lista."
   ]
  },
  {
   "cell_type": "code",
   "execution_count": 10,
   "metadata": {
    "slideshow": {
     "slide_type": "fragment"
    }
   },
   "outputs": [
    {
     "name": "stdout",
     "output_type": "stream",
     "text": [
      "{'óleo': 5, 'margarina': 8, 'café': 2}\n",
      "[5, 8, 2]\n"
     ]
    }
   ],
   "source": [
    "print(estoque)\n",
    "print(list(estoque.values()))"
   ]
  },
  {
   "cell_type": "markdown",
   "metadata": {
    "slideshow": {
     "slide_type": "slide"
    }
   },
   "source": [
    "O método **items** retorna uma *view* dos pares chave-valor."
   ]
  },
  {
   "cell_type": "code",
   "execution_count": 11,
   "metadata": {
    "slideshow": {
     "slide_type": "fragment"
    }
   },
   "outputs": [
    {
     "name": "stdout",
     "output_type": "stream",
     "text": [
      "{'óleo': 5, 'margarina': 8, 'café': 2}\n",
      "dict_items([('óleo', 5), ('margarina', 8), ('café', 2)])\n"
     ]
    }
   ],
   "source": [
    "print(estoque)\n",
    "print(estoque.items())"
   ]
  },
  {
   "cell_type": "markdown",
   "metadata": {
    "slideshow": {
     "slide_type": "slide"
    }
   },
   "source": [
    "Você iterar sobre o resultado do método **items** para trabalhar separadamente com a chave e o valor."
   ]
  },
  {
   "cell_type": "code",
   "execution_count": 12,
   "metadata": {
    "slideshow": {
     "slide_type": "fragment"
    }
   },
   "outputs": [
    {
     "name": "stdout",
     "output_type": "stream",
     "text": [
      "{'óleo': 5, 'margarina': 8, 'café': 2}\n",
      "No meu estoque há 5 unidades de óleo\n",
      "No meu estoque há 8 unidades de margarina\n",
      "No meu estoque há 2 unidades de café\n"
     ]
    }
   ],
   "source": [
    "print(estoque)\n",
    "for chave,valor in estoque.items():\n",
    "    print(\"No meu estoque há {} unidades de {}\".format(valor,chave))"
   ]
  },
  {
   "cell_type": "markdown",
   "metadata": {
    "slideshow": {
     "slide_type": "slide"
    }
   },
   "source": [
    "Uma outra maneira de acessar um item de um dicionário é por meio do método **get**."
   ]
  },
  {
   "cell_type": "code",
   "execution_count": 13,
   "metadata": {
    "slideshow": {
     "slide_type": "fragment"
    }
   },
   "outputs": [
    {
     "name": "stdout",
     "output_type": "stream",
     "text": [
      "{'óleo': 5, 'margarina': 8, 'café': 2}\n",
      "2\n"
     ]
    }
   ],
   "source": [
    "print(estoque)\n",
    "print(estoque.get(\"café\"))"
   ]
  },
  {
   "cell_type": "markdown",
   "metadata": {
    "slideshow": {
     "slide_type": "slide"
    }
   },
   "source": [
    "Esse método é interessante porque quando a chave procurada não existe no dicionário ele retorna o valor **None** ao invés de ocorrer um erro de execução."
   ]
  },
  {
   "cell_type": "code",
   "execution_count": 14,
   "metadata": {
    "slideshow": {
     "slide_type": "fragment"
    }
   },
   "outputs": [
    {
     "name": "stdout",
     "output_type": "stream",
     "text": [
      "{'óleo': 5, 'margarina': 8, 'café': 2}\n",
      "None\n"
     ]
    },
    {
     "ename": "KeyError",
     "evalue": "'manteiga'",
     "output_type": "error",
     "traceback": [
      "\u001b[0;31m---------------------------------------------------------------------------\u001b[0m",
      "\u001b[0;31mKeyError\u001b[0m                                  Traceback (most recent call last)",
      "\u001b[0;32m<ipython-input-14-371f1bcbb960>\u001b[0m in \u001b[0;36m<module>\u001b[0;34m\u001b[0m\n\u001b[1;32m      1\u001b[0m \u001b[0mprint\u001b[0m\u001b[0;34m(\u001b[0m\u001b[0mestoque\u001b[0m\u001b[0;34m)\u001b[0m\u001b[0;34m\u001b[0m\u001b[0;34m\u001b[0m\u001b[0m\n\u001b[1;32m      2\u001b[0m \u001b[0mprint\u001b[0m\u001b[0;34m(\u001b[0m\u001b[0mestoque\u001b[0m\u001b[0;34m.\u001b[0m\u001b[0mget\u001b[0m\u001b[0;34m(\u001b[0m\u001b[0;34m\"manteiga\"\u001b[0m\u001b[0;34m)\u001b[0m\u001b[0;34m)\u001b[0m\u001b[0;34m\u001b[0m\u001b[0;34m\u001b[0m\u001b[0m\n\u001b[0;32m----> 3\u001b[0;31m \u001b[0mprint\u001b[0m\u001b[0;34m(\u001b[0m\u001b[0mestoque\u001b[0m\u001b[0;34m[\u001b[0m\u001b[0;34m\"manteiga\"\u001b[0m\u001b[0;34m]\u001b[0m\u001b[0;34m)\u001b[0m\u001b[0;34m\u001b[0m\u001b[0;34m\u001b[0m\u001b[0m\n\u001b[0m",
      "\u001b[0;31mKeyError\u001b[0m: 'manteiga'"
     ]
    }
   ],
   "source": [
    "print(estoque)\n",
    "print(estoque.get(\"manteiga\"))\n",
    "print(estoque[\"manteiga\"])"
   ]
  },
  {
   "cell_type": "markdown",
   "metadata": {
    "slideshow": {
     "slide_type": "slide"
    }
   },
   "source": [
    "O operador **in** pode ser usado para verificar se uma chave está presente no dicionário."
   ]
  },
  {
   "cell_type": "code",
   "execution_count": 15,
   "metadata": {
    "slideshow": {
     "slide_type": "fragment"
    }
   },
   "outputs": [
    {
     "name": "stdout",
     "output_type": "stream",
     "text": [
      "{'óleo': 5, 'margarina': 8, 'café': 2}\n",
      "True\n",
      "False\n",
      "False\n"
     ]
    }
   ],
   "source": [
    "print(estoque)\n",
    "print(\"margarina\" in estoque)\n",
    "print(\"manteiga\" in estoque)\n",
    "print(\"café\" not in estoque)"
   ]
  },
  {
   "cell_type": "markdown",
   "metadata": {
    "slideshow": {
     "slide_type": "slide"
    }
   },
   "source": [
    "O método **popitem** remove o último item do dicionário e o retorna."
   ]
  },
  {
   "cell_type": "code",
   "execution_count": 16,
   "metadata": {
    "slideshow": {
     "slide_type": "fragment"
    }
   },
   "outputs": [
    {
     "name": "stdout",
     "output_type": "stream",
     "text": [
      "{'óleo': 5, 'margarina': 8, 'café': 2}\n",
      "('café', 2)\n",
      "{'óleo': 5, 'margarina': 8}\n"
     ]
    }
   ],
   "source": [
    "print(estoque)\n",
    "ultimo_elemento = estoque.popitem()\n",
    "print(ultimo_elemento)\n",
    "print(estoque)"
   ]
  },
  {
   "cell_type": "markdown",
   "metadata": {
    "slideshow": {
     "slide_type": "slide"
    }
   },
   "source": [
    "Você pode concatenar dois dicionários com o método **update**."
   ]
  },
  {
   "cell_type": "code",
   "execution_count": 17,
   "metadata": {
    "slideshow": {
     "slide_type": "fragment"
    }
   },
   "outputs": [
    {
     "name": "stdout",
     "output_type": "stream",
     "text": [
      "{'óleo': 5, 'margarina': 8}\n",
      "{'óleo': 5, 'margarina': 8, 'macarrão': 6, 'açúcar': 9}\n"
     ]
    }
   ],
   "source": [
    "print(estoque)\n",
    "estoque2 = {\"macarrão\":6,\"açúcar\":9}\n",
    "estoque.update(estoque2)\n",
    "print(estoque)"
   ]
  },
  {
   "cell_type": "markdown",
   "metadata": {
    "collapsed": true,
    "slideshow": {
     "slide_type": "slide"
    }
   },
   "source": [
    "Você pode transformar duas listas de mesmo comprimento em um dicionário utilizando a função **zip** de listas e o construtor **dict**."
   ]
  },
  {
   "cell_type": "code",
   "execution_count": 18,
   "metadata": {
    "slideshow": {
     "slide_type": "fragment"
    }
   },
   "outputs": [
    {
     "name": "stdout",
     "output_type": "stream",
     "text": [
      "[(1, 'janeiro'), (2, 'fevereiro'), (3, 'março'), (4, 'abril'), (5, 'maio'), (6, 'abril'), (7, 'maio'), (8, 'junho'), (9, 'julho'), (10, 'agosto'), (11, 'setembro'), (12, 'outubro')]\n",
      "{1: 'janeiro', 2: 'fevereiro', 3: 'março', 4: 'abril', 5: 'maio', 6: 'abril', 7: 'maio', 8: 'junho', 9: 'julho', 10: 'agosto', 11: 'setembro', 12: 'outubro'}\n",
      "O mês 5 do ano é maio\n"
     ]
    }
   ],
   "source": [
    "meses = [\"janeiro\",\"fevereiro\",\"março\",\"abril\",\"maio\",\"abril\",\"maio\",\"junho\",\"julho\",\"agosto\",\"setembro\",\"outubro\",\"novembro\",\"dezembro\"]\n",
    "numeros = [1,2,3,4,5,6,7,8,9,10,11,12]\n",
    "print(list(zip(numeros,meses)))\n",
    "d = dict(zip(numeros,meses))\n",
    "print(d)\n",
    "print(\"O mês {} do ano é {}\".format(5,d[5]))"
   ]
  }
 ],
 "metadata": {
  "celltoolbar": "Slideshow",
  "kernelspec": {
   "display_name": "Python 3",
   "language": "python",
   "name": "python3"
  },
  "language_info": {
   "codemirror_mode": {
    "name": "ipython",
    "version": 3
   },
   "file_extension": ".py",
   "mimetype": "text/x-python",
   "name": "python",
   "nbconvert_exporter": "python",
   "pygments_lexer": "ipython3",
   "version": "3.7.1"
  }
 },
 "nbformat": 4,
 "nbformat_minor": 2
}
